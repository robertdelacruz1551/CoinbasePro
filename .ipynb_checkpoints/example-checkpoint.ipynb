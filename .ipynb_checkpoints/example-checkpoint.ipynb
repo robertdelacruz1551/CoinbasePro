{
 "cells": [
  {
   "cell_type": "code",
   "execution_count": 1,
   "metadata": {},
   "outputs": [],
   "source": [
    "from CoinbaseProWebsocketClient import CoinbaseWebsocket"
   ]
  },
  {
   "cell_type": "code",
   "execution_count": 2,
   "metadata": {},
   "outputs": [],
   "source": [
    "ws = CoinbaseWebsocket(products=['BTC-USD'], \n",
    "                       channels=['ticker'],\n",
    "                       production=True)"
   ]
  },
  {
   "cell_type": "code",
   "execution_count": 3,
   "metadata": {},
   "outputs": [
    {
     "name": "stdout",
     "output_type": "stream",
     "text": [
      "Connected, and subscribed to channels ticker\n"
     ]
    }
   ],
   "source": [
    "ws.open()"
   ]
  },
  {
   "cell_type": "code",
   "execution_count": 18,
   "metadata": {},
   "outputs": [
    {
     "name": "stdout",
     "output_type": "stream",
     "text": [
      "Connection already closed\n"
     ]
    }
   ],
   "source": [
    "ws.close()"
   ]
  },
  {
   "cell_type": "code",
   "execution_count": 17,
   "metadata": {},
   "outputs": [
    {
     "data": {
      "text/plain": [
       "{'best_ask': 6205.01,\n",
       " 'best_bid': 6205.0,\n",
       " 'high_24h': 6544.99,\n",
       " 'last_size': 0.08608547,\n",
       " 'low_24h': 6139.57,\n",
       " 'open_24h': 6334.01,\n",
       " 'price': 6205.0,\n",
       " 'product_id': 'BTC-USD',\n",
       " 'sequence': 6586114431,\n",
       " 'side': 'sell',\n",
       " 'time': 1534210580.424639,\n",
       " 'trade_id': 48785865,\n",
       " 'type': 'ticker',\n",
       " 'volume_24h': 12065.88706851,\n",
       " 'volume_30d': 318696.54308066}"
      ]
     },
     "execution_count": 17,
     "metadata": {},
     "output_type": "execute_result"
    }
   ],
   "source": [
    "ws.data['BTC-USD']['ticker']['live']"
   ]
  },
  {
   "cell_type": "code",
   "execution_count": 13,
   "metadata": {},
   "outputs": [
    {
     "data": {
      "text/plain": [
       "[{'channels': [{'name': 'heartbeat', 'product_ids': ['BTC-USD']},\n",
       "   {'name': 'ticker', 'product_ids': ['BTC-USD']}],\n",
       "  'type': 'subscriptions'}]"
      ]
     },
     "execution_count": 13,
     "metadata": {},
     "output_type": "execute_result"
    }
   ],
   "source": [
    "ws.messages"
   ]
  },
  {
   "cell_type": "code",
   "execution_count": null,
   "metadata": {},
   "outputs": [],
   "source": []
  },
  {
   "cell_type": "code",
   "execution_count": null,
   "metadata": {},
   "outputs": [],
   "source": []
  }
 ],
 "metadata": {
  "kernelspec": {
   "display_name": "Python 3",
   "language": "python",
   "name": "python3"
  },
  "language_info": {
   "codemirror_mode": {
    "name": "ipython",
    "version": 3
   },
   "file_extension": ".py",
   "mimetype": "text/x-python",
   "name": "python",
   "nbconvert_exporter": "python",
   "pygments_lexer": "ipython3",
   "version": "3.6.3"
  }
 },
 "nbformat": 4,
 "nbformat_minor": 2
}
