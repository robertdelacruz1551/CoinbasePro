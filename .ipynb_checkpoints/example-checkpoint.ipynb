{
 "cells": [
  {
   "cell_type": "code",
   "execution_count": 1,
   "metadata": {},
   "outputs": [],
   "source": [
    "from CoinbaseProWebsocketClient import CoinbaseWebsocket"
   ]
  },
  {
   "cell_type": "code",
   "execution_count": 6,
   "metadata": {},
   "outputs": [],
   "source": [
    "ws = CoinbaseWebsocket(products=['BTC-USD'], \n",
    "                       channels=['ticker'],\n",
    "                       production=True)"
   ]
  },
  {
   "cell_type": "code",
   "execution_count": 7,
   "metadata": {},
   "outputs": [
    {
     "name": "stdout",
     "output_type": "stream",
     "text": [
      "Connected, and subscribed to channels ticker\n"
     ]
    }
   ],
   "source": [
    "ws.open()"
   ]
  },
  {
   "cell_type": "code",
   "execution_count": 53,
   "metadata": {},
   "outputs": [
    {
     "name": "stdout",
     "output_type": "stream",
     "text": [
      "Connection closed\n"
     ]
    }
   ],
   "source": [
    "ws.close()"
   ]
  },
  {
   "cell_type": "code",
   "execution_count": 52,
   "metadata": {},
   "outputs": [
    {
     "data": {
      "text/plain": [
       "{'best_ask': 6360.51,\n",
       " 'best_bid': 6360.5,\n",
       " 'high_24h': 6482.0,\n",
       " 'last_size': 0.00463,\n",
       " 'low_24h': 6169.46,\n",
       " 'open_24h': 6394.01,\n",
       " 'price': 6360.5,\n",
       " 'product_id': 'BTC-USD',\n",
       " 'sequence': 6569544567,\n",
       " 'side': 'sell',\n",
       " 'time': 1534110986.354961,\n",
       " 'trade_id': 48685932,\n",
       " 'type': 'ticker',\n",
       " 'volume_24h': 8494.78606043,\n",
       " 'volume_30d': 309262.53625362}"
      ]
     },
     "execution_count": 52,
     "metadata": {},
     "output_type": "execute_result"
    }
   ],
   "source": [
    "ws.data['BTC-USD']['ticker']['current']"
   ]
  },
  {
   "cell_type": "code",
   "execution_count": 51,
   "metadata": {},
   "outputs": [
    {
     "data": {
      "text/plain": [
       "[{'channels': [{'name': 'ticker', 'product_ids': ['BTC-USD']}],\n",
       "  'type': 'subscriptions'}]"
      ]
     },
     "execution_count": 51,
     "metadata": {},
     "output_type": "execute_result"
    }
   ],
   "source": [
    "ws.messages"
   ]
  },
  {
   "cell_type": "code",
   "execution_count": null,
   "metadata": {},
   "outputs": [],
   "source": []
  }
 ],
 "metadata": {
  "kernelspec": {
   "display_name": "Python 3",
   "language": "python",
   "name": "python3"
  },
  "language_info": {
   "codemirror_mode": {
    "name": "ipython",
    "version": 3
   },
   "file_extension": ".py",
   "mimetype": "text/x-python",
   "name": "python",
   "nbconvert_exporter": "python",
   "pygments_lexer": "ipython3",
   "version": "3.6.3"
  }
 },
 "nbformat": 4,
 "nbformat_minor": 2
}
