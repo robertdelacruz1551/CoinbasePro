{
 "cells": [
  {
   "cell_type": "code",
   "execution_count": 1,
   "metadata": {},
   "outputs": [],
   "source": [
    "from CoinbaseProWebsocketClient import CoinbaseWebsocket"
   ]
  },
  {
   "cell_type": "code",
   "execution_count": 2,
   "metadata": {},
   "outputs": [],
   "source": [
    "ws = CoinbaseWebsocket(products=['BTC-USD'], \n",
    "                       channels=['user'],\n",
    "                       production=False)"
   ]
  },
  {
   "cell_type": "code",
   "execution_count": 3,
   "metadata": {},
   "outputs": [
    {
     "name": "stdout",
     "output_type": "stream",
     "text": [
      "Connected. Awaiting subscription message. wss://ws-feed-public.sandbox.pro.coinbase.com\n",
      "Subscribed to heartbeat, user\n"
     ]
    }
   ],
   "source": [
    "ws.open()"
   ]
  },
  {
   "cell_type": "code",
   "execution_count": 6,
   "metadata": {},
   "outputs": [
    {
     "data": {
      "text/html": [
       "<div>\n",
       "<style>\n",
       "    .dataframe thead tr:only-child th {\n",
       "        text-align: right;\n",
       "    }\n",
       "\n",
       "    .dataframe thead th {\n",
       "        text-align: left;\n",
       "    }\n",
       "\n",
       "    .dataframe tbody tr th {\n",
       "        vertical-align: top;\n",
       "    }\n",
       "</style>\n",
       "<table border=\"1\" class=\"dataframe\">\n",
       "  <thead>\n",
       "    <tr style=\"text-align: right;\">\n",
       "      <th></th>\n",
       "      <th>order_id</th>\n",
       "      <th>create_time</th>\n",
       "      <th>update_time</th>\n",
       "      <th>product_id</th>\n",
       "      <th>order_type</th>\n",
       "      <th>side</th>\n",
       "      <th>stop_price</th>\n",
       "      <th>price</th>\n",
       "      <th>size</th>\n",
       "      <th>funds</th>\n",
       "      <th>holdings</th>\n",
       "      <th>taker_fee_rate</th>\n",
       "      <th>status</th>\n",
       "    </tr>\n",
       "  </thead>\n",
       "  <tbody>\n",
       "    <tr>\n",
       "      <th>32460422</th>\n",
       "      <td>9245c663-c960-486c-9171-5f8ca04f8f23</td>\n",
       "      <td>2018-08-22T11:37:29.462000Z</td>\n",
       "      <td>2018-08-22T11:37:29.462000Z</td>\n",
       "      <td>BTC-USD</td>\n",
       "      <td>limit</td>\n",
       "      <td>buy</td>\n",
       "      <td>0</td>\n",
       "      <td>6641.36</td>\n",
       "      <td>1.198636</td>\n",
       "      <td>0.0</td>\n",
       "      <td>0.0</td>\n",
       "      <td>0.0</td>\n",
       "      <td>open</td>\n",
       "    </tr>\n",
       "  </tbody>\n",
       "</table>\n",
       "</div>"
      ],
      "text/plain": [
       "                                      order_id                  create_time  \\\n",
       "32460422  9245c663-c960-486c-9171-5f8ca04f8f23  2018-08-22T11:37:29.462000Z   \n",
       "\n",
       "                          update_time product_id order_type side  stop_price  \\\n",
       "32460422  2018-08-22T11:37:29.462000Z    BTC-USD      limit  buy           0   \n",
       "\n",
       "            price      size  funds  holdings  taker_fee_rate status  \n",
       "32460422  6641.36  1.198636    0.0       0.0             0.0   open  "
      ]
     },
     "execution_count": 6,
     "metadata": {},
     "output_type": "execute_result"
    }
   ],
   "source": [
    "ws.data['BTC-USD']['orders']['live']"
   ]
  },
  {
   "cell_type": "code",
   "execution_count": 5,
   "metadata": {},
   "outputs": [
    {
     "data": {
      "text/plain": [
       "[]"
      ]
     },
     "execution_count": 5,
     "metadata": {},
     "output_type": "execute_result"
    }
   ],
   "source": [
    "ws.messages"
   ]
  },
  {
   "cell_type": "code",
   "execution_count": null,
   "metadata": {},
   "outputs": [],
   "source": [
    "ws.close()"
   ]
  }
 ],
 "metadata": {
  "kernelspec": {
   "display_name": "Python 3",
   "language": "python",
   "name": "python3"
  },
  "language_info": {
   "codemirror_mode": {
    "name": "ipython",
    "version": 3
   },
   "file_extension": ".py",
   "mimetype": "text/x-python",
   "name": "python",
   "nbconvert_exporter": "python",
   "pygments_lexer": "ipython3",
   "version": "3.6.3"
  }
 },
 "nbformat": 4,
 "nbformat_minor": 2
}
