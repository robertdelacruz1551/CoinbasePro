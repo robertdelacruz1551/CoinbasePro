{
 "cells": [
  {
   "cell_type": "code",
   "execution_count": 1,
   "metadata": {},
   "outputs": [],
   "source": [
    "from CoinbaseProWebsocketClient import CoinbaseWebsocket"
   ]
  },
  {
   "cell_type": "code",
   "execution_count": 13,
   "metadata": {},
   "outputs": [],
   "source": [
    "ws = CoinbaseWebsocket(products=['BTC-USD','LTC-USD'], \n",
    "                       channels=['ticker'],\n",
    "                       production=False)"
   ]
  },
  {
   "cell_type": "code",
   "execution_count": 14,
   "metadata": {},
   "outputs": [
    {
     "name": "stdout",
     "output_type": "stream",
     "text": [
      "Connected. Awaiting subscription message. wss://ws-feed-public.sandbox.pro.coinbase.com\n",
      "Subscribed to heartbeat, ticker\n"
     ]
    }
   ],
   "source": [
    "ws.open()"
   ]
  },
  {
   "cell_type": "code",
   "execution_count": 18,
   "metadata": {},
   "outputs": [
    {
     "data": {
      "text/plain": [
       "{'best_ask': 6415.8,\n",
       " 'best_bid': 6415.0,\n",
       " 'high_24h': 7494.99,\n",
       " 'last_size': 0.0,\n",
       " 'low_24h': 4899.0,\n",
       " 'open_24h': 7022.59,\n",
       " 'price': 6436.73,\n",
       " 'product_id': 'BTC-USD',\n",
       " 'sequence': 32524243,\n",
       " 'time': 1534986586.859116,\n",
       " 'type': 'ticker',\n",
       " 'volume_24h': 646.19958815,\n",
       " 'volume_30d': 1430194.85225991}"
      ]
     },
     "execution_count": 18,
     "metadata": {},
     "output_type": "execute_result"
    }
   ],
   "source": [
    "ws.data['BTC-USD']['ticker']['live']"
   ]
  },
  {
   "cell_type": "code",
   "execution_count": 20,
   "metadata": {},
   "outputs": [
    {
     "name": "stdout",
     "output_type": "stream",
     "text": [
      "Closing connection\n"
     ]
    }
   ],
   "source": [
    "ws.close()"
   ]
  },
  {
   "cell_type": "code",
   "execution_count": null,
   "metadata": {},
   "outputs": [],
   "source": []
  }
 ],
 "metadata": {
  "kernelspec": {
   "display_name": "Python 3",
   "language": "python",
   "name": "python3"
  },
  "language_info": {
   "codemirror_mode": {
    "name": "ipython",
    "version": 3
   },
   "file_extension": ".py",
   "mimetype": "text/x-python",
   "name": "python",
   "nbconvert_exporter": "python",
   "pygments_lexer": "ipython3",
   "version": "3.6.3"
  }
 },
 "nbformat": 4,
 "nbformat_minor": 2
}
